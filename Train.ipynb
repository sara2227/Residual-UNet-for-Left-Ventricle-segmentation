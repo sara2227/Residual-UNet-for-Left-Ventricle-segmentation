{
 "cells": [
  {
   "cell_type": "code",
   "execution_count": null,
   "metadata": {},
   "outputs": [],
   "source": [
    "import glob \n",
    "import os\n",
    "import cv2\n",
    "%pylab inline\n",
    "import matplotlib.pyplot as plt\n",
    "import matplotlib.image as mpimg\n",
    "import numpy as np\n",
    "import glob\n",
    "import os\n",
    "from sklearn.metrics import confusion_matrix\n"
   ]
  },
  {
   "cell_type": "markdown",
   "metadata": {},
   "source": [
    "# Train the model and save checkpoints"
   ]
  },
  {
   "cell_type": "code",
   "execution_count": null,
   "metadata": {
    "scrolled": true
   },
   "outputs": [],
   "source": [
    "!python3 -m keras_segmentation train \\\n",
    " --checkpoints_path=\"./ch12/\" \\\n",
    " --train_images=\"data1/train/\" \\\n",
    " --train_annotations=\"data1/train_label1/\" \\\n",
    " --val_images=\"data1/test/\" \\\n",
    " --val_annotations=\"data1/test_label1/\" \\\n",
    " --epochs=20\\\n",
    " --steps_per_epoch=350\\\n",
    " --n_classes=2 \\\n",
    " --input_height=256 \\\n",
    " --input_width=256 \\\n",
    " --model_name=\"ror_unet\""
   ]
  },
  {
   "cell_type": "markdown",
   "metadata": {},
   "source": [
    "# Clear the output folder"
   ]
  },
  {
   "cell_type": "code",
   "execution_count": null,
   "metadata": {},
   "outputs": [],
   "source": [
    "import glob\n",
    "import os\n",
    "imgs = glob.glob('./out/*.png')\n",
    "for i in imgs:\n",
    "    os.remove(i)\n",
    "    "
   ]
  },
  {
   "cell_type": "markdown",
   "metadata": {},
   "source": [
    "# Load the model and generate the masks for the test data"
   ]
  },
  {
   "cell_type": "code",
   "execution_count": null,
   "metadata": {},
   "outputs": [],
   "source": [
    "!python3 -m keras_segmentation predict \\\n",
    " --checkpoints_path=\"./ch12/\" \\\n",
    "#  --check_num=\"18\" \\\n",
    " --input_path=\"data1/test/\" \\\n",
    " --output_path=\"./out/\" "
   ]
  },
  {
   "cell_type": "markdown",
   "metadata": {},
   "source": [
    "# Calculate the mean percent of missed pixel and extras pixles  "
   ]
  },
  {
   "cell_type": "code",
   "execution_count": null,
   "metadata": {},
   "outputs": [],
   "source": [
    "total_miss = 0\n",
    "total_extra = 0\n",
    "l=0\n",
    "img_out = glob.glob('./out/*.png')\n",
    "img_label = glob.glob('./data1/test_label1/*.png')\n",
    "print(len(img_out))\n",
    "for pic in range(0,len(img_out)):\n",
    "    l=l+1\n",
    "    miss_percent=0\n",
    "    extra_pixels=0\n",
    "    extra=0\n",
    "    mean_erro=0\n",
    "    equal=0\n",
    "    #read images gt and output\n",
    "    m_out=cv2.imread(img_out[pic])\n",
    "    m_out=np.where(m_out>0,1,0)\n",
    "    m_label=cv2.imread(img_label[pic])\n",
    "    #check the result for missed and extras\n",
    "    obj=np.unique(m_label, return_counts=True)[1][1] #target pixels of each image \n",
    "    background=np.unique(m_label, return_counts=True)[1][0] #background pixels of each image \n",
    "    result=np.unique(m_label-m_out,return_counts=True)\n",
    "    if -1 in result[0]:\n",
    "        index=np.where(result[0]==-1)\n",
    "        extra_pixels=result[1][index]\n",
    "        total_extra = extra_pixels + total_extra\n",
    "        \n",
    "    if 0 in result[0]:\n",
    "        index=np.where(result[0]==0)\n",
    "        equal=equal+1\n",
    "        \n",
    "    if 1 in result[0]:\n",
    "        index=np.where(result[0]==1)\n",
    "        miss_percent=result[1][index]/obj * 100\n",
    "        total_miss = miss_percent + total_miss\n",
    "        \n",
    "print('total miss: ',total_miss/len(img_out))\n",
    "print('total extra: ',np.int(total_extra/len(img_out)))"
   ]
  },
  {
   "cell_type": "markdown",
   "metadata": {},
   "source": [
    "# Evaluate the segmentation by MIOU,Dice,FPR and TPR metrics "
   ]
  },
  {
   "cell_type": "code",
   "execution_count": null,
   "metadata": {},
   "outputs": [],
   "source": [
    "from sklearn.metrics import confusion_matrix\n",
    "total_miou = 0\n",
    "total_dice = 0\n",
    "total_fpr = 0\n",
    "total_tpr = 0\n",
    "# img_out = glob.glob('/home/sara/resnet50_segnet_5epoch/*.png')\n",
    "img_out = glob.glob('./out/*.png')\n",
    "img_label = glob.glob('./data1/test_label1/*.png')\n",
    "total = 0\n",
    "for pic in range(0,len(img_out)):\n",
    "   \n",
    "    m_out=cv2.imread(img_out[pic])\n",
    "#     print(np.unique(m_out))\n",
    "    prediction=np.reshape(np.where(m_out>0,1,0),(-1))\n",
    "    target=np.reshape(cv2.imread(img_label[pic]),(-1))\n",
    "\n",
    "    cm = confusion_matrix(target,prediction)\n",
    "    tn = cm[0][0] #true positive\n",
    "    fp = cm[0][1] #false positive\n",
    "    fn = cm[1][0] #false negative\n",
    "    tp = cm[1][1] #true positive\n",
    "\n",
    "    total_miou = 0.5*((tn/(tn+fp+tn+fn-tn)) + (tp/(fn+tp+fp+tp-tp))) + total_miou\n",
    "    total_dice = ((tn/(tn+fp+tn+fn)) + (tp/(fn+tp+fp+tp))) + total_dice\n",
    "    tpr = (tp/(tp + fn)) * 100\n",
    "    fpr = (fp/(fp + tn)) * 100\n",
    "#     print('tpr: ',tpr,'\\n')\n",
    "#     print('fpr: ',fpr,'\\n')\n",
    "#     total_fpr = ((fp/(fp + tn)) * 100) + total_fpr\n",
    "#     total_tpr = ((tp/(tp + fn)) * 100) + total_tpr\n",
    "    total_fpr = fpr + total_fpr\n",
    "    total_tpr = tpr + total_tpr\n",
    "print('total_miou:',(total_miou/len(img_out)),'\\n')\n",
    "print('total_dice*',(total_dice/len(img_out)),'\\n')\n",
    "print('total_fpr:',(total_fpr/len(img_out)),'\\n')\n",
    "print('total_tpr:',(total_tpr/len(img_out)),'\\n')"
   ]
  },
  {
   "cell_type": "code",
   "execution_count": null,
   "metadata": {},
   "outputs": [],
   "source": []
  }
 ],
 "metadata": {
  "kernelspec": {
   "display_name": "Python 3 (ipykernel)",
   "language": "python",
   "name": "python3"
  },
  "language_info": {
   "codemirror_mode": {
    "name": "ipython",
    "version": 3
   },
   "file_extension": ".py",
   "mimetype": "text/x-python",
   "name": "python",
   "nbconvert_exporter": "python",
   "pygments_lexer": "ipython3",
   "version": "3.8.10"
  }
 },
 "nbformat": 4,
 "nbformat_minor": 2
}
