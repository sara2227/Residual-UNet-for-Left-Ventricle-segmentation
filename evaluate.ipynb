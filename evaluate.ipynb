{
 "cells": [
  {
   "cell_type": "code",
   "execution_count": 1,
   "metadata": {},
   "outputs": [
    {
     "name": "stdout",
     "output_type": "stream",
     "text": [
      "Populating the interactive namespace from numpy and matplotlib\n"
     ]
    }
   ],
   "source": [
    "import glob \n",
    "import os\n",
    "import cv2\n",
    "%pylab inline\n",
    "import matplotlib.pyplot as plt\n",
    "import matplotlib.image as mpimg\n",
    "import numpy as np\n",
    "from sklearn.metrics import confusion_matrix"
   ]
  },
  {
   "cell_type": "code",
   "execution_count": 56,
   "metadata": {
    "scrolled": false
   },
   "outputs": [],
   "source": [
    "files = glob.glob('./resnet50_segnet_5epoch_200/*.png')\n",
    "for item in files:\n",
    "    img = cv2.imread(item, cv2.IMREAD_GRAYSCALE)\n",
    "    nb_components, output, stats, centroids = cv2.connectedComponentsWithStats(img, connectivity=8)\n",
    "    sizes = stats[1:, -1]; nb_components = nb_components - 1\n",
    "    if len(sizes)!= 0:\n",
    "        target_size = sizes[-1]\n",
    "    img2 = np.zeros((output.shape))\n",
    "    for i in range(0, nb_components):\n",
    "        if sizes[i] == target_size:\n",
    "            img2[output == i + 1] = 255\n",
    "    cv2.imwrite('./resnet50_segnet_5epoch_200_postpro/'+item.split('/')[-1],img2)"
   ]
  },
  {
   "cell_type": "markdown",
   "metadata": {},
   "source": [
    "# Calculate the mean percent of missed pixel and extras pixles  "
   ]
  },
  {
   "cell_type": "code",
   "execution_count": 3,
   "metadata": {},
   "outputs": [
    {
     "name": "stdout",
     "output_type": "stream",
     "text": [
      "total_miou: 0.8424005938812917 \n",
      "\n",
      "total_dice* 0.8854218990623124 \n",
      "\n",
      "total_fpr: 0.2067357072882769 \n",
      "\n",
      "total_tpr: 79.63620676486015 \n",
      "\n"
     ]
    }
   ],
   "source": [
    "from sklearn.metrics import confusion_matrix\n",
    "total_miou = 0\n",
    "total_dice = 0\n",
    "total_fpr = 0\n",
    "total_tpr = 0\n",
    "# img_out = glob.glob('/home/sara/resnet50_segnet_5epoch/*.png')\n",
    "img_out = glob.glob('./resnet50_segnet_5epoch_200_postpro/*.png')\n",
    "img_label = glob.glob('./data1/test_label1/*.png')\n",
    "total = 0\n",
    "for pic in range(0,len(img_out)):\n",
    "   \n",
    "    m_out=cv2.imread(img_out[pic])\n",
    "#     print(np.unique(m_out))\n",
    "    prediction=np.reshape(np.where(m_out==255,1,0),(-1))\n",
    "    target=np.reshape(cv2.imread(img_label[pic]),(-1))\n",
    "\n",
    "    cm = confusion_matrix(target,prediction)\n",
    "    tn = cm[0][0] #true positive\n",
    "    fp = cm[0][1] #false positive\n",
    "    fn = cm[1][0] #false negative\n",
    "    tp = cm[1][1] #true positive\n",
    "\n",
    "    total_miou = 0.5*((tn/(tn+fp+tn+fn-tn)) + (tp/(fn+tp+fp+tp-tp))) + total_miou\n",
    "    total_dice = ((tn/(tn+fp+tn+fn)) + (tp/(fn+tp+fp+tp))) + total_dice\n",
    "    tpr = (tp/(tp + fn)) * 100\n",
    "    fpr = (fp/(fp + tn)) * 100\n",
    "#     print('tpr: ',tpr,'\\n')\n",
    "#     print('fpr: ',fpr,'\\n')\n",
    "#     total_fpr = ((fp/(fp + tn)) * 100) + total_fpr\n",
    "#     total_tpr = ((tp/(tp + fn)) * 100) + total_tpr\n",
    "    total_fpr = fpr + total_fpr\n",
    "    total_tpr = tpr + total_tpr\n",
    "print('total_miou:',(total_miou/len(img_out)),'\\n')\n",
    "print('total_dice*',(total_dice/len(img_out)),'\\n')\n",
    "print('total_fpr:',(total_fpr/len(img_out)),'\\n')\n",
    "print('total_tpr:',(total_tpr/len(img_out)),'\\n')"
   ]
  },
  {
   "cell_type": "code",
   "execution_count": 29,
   "metadata": {},
   "outputs": [
    {
     "name": "stdout",
     "output_type": "stream",
     "text": [
      "total_mean 0.7013481658310319\n"
     ]
    }
   ],
   "source": [
    "from sklearn.metrics import confusion_matrix\n",
    "total_miou = 0\n",
    "img_out = glob.glob('./output/*.png')\n",
    "img_label = glob.glob('./data1/test_label1/*.png')\n",
    "total = 0\n",
    "for pic in range(0,len(img_out)):\n",
    "   \n",
    "    m_out=cv2.imread(img_out[pic])\n",
    "    prediction=np.reshape(np.where(m_out>0,1,0),(-1))\n",
    "    target=np.reshape(cv2.imread(img_label[pic]),(-1))\n",
    "#     print(type(target))\n",
    "#     print(type(prediction))\n",
    "    cm = confusion_matrix(target,prediction)\n",
    "    tn = cm[0][0] #c00\n",
    "    fp = cm[0][1] #c01\n",
    "    fn = cm[1][0]\n",
    "    tp = cm[1][1]\n",
    "#     print(tn,fp,fn,tp)\n",
    "    total_miou = 0.5*((tn/(tn+fp+tn+fn-tn)) + (tp/(fn+tp+fp+tp-tp))) + total_miou\n",
    "#     print(total_miou)\n",
    "print('total_mean',(total_miou/len(img_out)))"
   ]
  },
  {
   "cell_type": "code",
   "execution_count": null,
   "metadata": {},
   "outputs": [],
   "source": []
  }
 ],
 "metadata": {
  "kernelspec": {
   "display_name": "Python 3 (ipykernel)",
   "language": "python",
   "name": "python3"
  },
  "language_info": {
   "codemirror_mode": {
    "name": "ipython",
    "version": 3
   },
   "file_extension": ".py",
   "mimetype": "text/x-python",
   "name": "python",
   "nbconvert_exporter": "python",
   "pygments_lexer": "ipython3",
   "version": "3.8.10"
  }
 },
 "nbformat": 4,
 "nbformat_minor": 2
}
