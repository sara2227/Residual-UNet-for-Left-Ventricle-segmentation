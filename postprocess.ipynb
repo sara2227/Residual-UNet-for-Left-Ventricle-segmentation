{
 "cells": [
  {
   "cell_type": "code",
   "execution_count": 1,
   "metadata": {},
   "outputs": [
    {
     "name": "stdout",
     "output_type": "stream",
     "text": [
      "Populating the interactive namespace from numpy and matplotlib\n"
     ]
    }
   ],
   "source": [
    "import glob \n",
    "import os\n",
    "import cv2\n",
    "%pylab inline\n",
    "import matplotlib.pyplot as plt\n",
    "import matplotlib.image as mpimg\n",
    "import numpy as np"
   ]
  },
  {
   "cell_type": "markdown",
   "metadata": {},
   "source": [
    "# post process:deleting extras"
   ]
  },
  {
   "cell_type": "code",
   "execution_count": 2,
   "metadata": {},
   "outputs": [],
   "source": [
    "files = glob.glob('./out_ror_250st_342epo/*.png')\n",
    "for item in files:\n",
    "    img = cv2.imread(item, cv2.IMREAD_GRAYSCALE)\n",
    "    nb_components, output, stats, centroids = cv2.connectedComponentsWithStats(img, connectivity=8)\n",
    "    sizes = stats[1:, -1]; nb_components = nb_components - 1\n",
    "    if len(sizes)!= 0:\n",
    "        target_size = sizes[-1]\n",
    "    img2 = np.zeros((output.shape))\n",
    "    for i in range(0, nb_components):\n",
    "        if sizes[i] == target_size:\n",
    "            img2[output == i + 1] = 255\n",
    "    cv2.imwrite('./out_ror_250st_342epo_postpro/'+item.split('/')[-1],img2)"
   ]
  },
  {
   "cell_type": "markdown",
   "metadata": {},
   "source": [
    "# evaluate after postprocess"
   ]
  },
  {
   "cell_type": "code",
   "execution_count": 3,
   "metadata": {},
   "outputs": [
    {
     "name": "stdout",
     "output_type": "stream",
     "text": [
      "total_miou: 0.756566990998035 \n",
      "\n",
      "total_dice* 0.7781519611182206 \n",
      "\n",
      "total_fpr: 0.0561458030849376 \n",
      "\n",
      "total_tpr: 54.68969999873165 \n",
      "\n"
     ]
    }
   ],
   "source": [
    "from sklearn.metrics import confusion_matrix\n",
    "total_miou = 0\n",
    "total_dice = 0\n",
    "total_fpr = 0\n",
    "total_tpr = 0\n",
    "# img_out = glob.glob('/home/sara/resnet50_segnet_5epoch/*.png')\n",
    "img_out = glob.glob('./ror50_unet_500epo_postpro/*.png')\n",
    "img_label = glob.glob('./data1/test_label1/*.png')\n",
    "total = 0\n",
    "for pic in range(0,len(img_out)):\n",
    "   \n",
    "    m_out=cv2.imread(img_out[pic])\n",
    "#     print(np.unique(m_out))\n",
    "    prediction=np.reshape(np.where(m_out>0,1,0),(-1))\n",
    "    target=np.reshape(cv2.imread(img_label[pic]),(-1))\n",
    "\n",
    "    cm = confusion_matrix(target,prediction)\n",
    "    tn = cm[0][0] #true positive\n",
    "    fp = cm[0][1] #false positive\n",
    "    fn = cm[1][0] #false negative\n",
    "    tp = cm[1][1] #true positive\n",
    "\n",
    "    total_miou = 0.5*((tn/(tn+fp+tn+fn-tn)) + (tp/(fn+tp+fp+tp-tp))) + total_miou\n",
    "    total_dice = ((tn/(tn+fp+tn+fn)) + (tp/(fn+tp+fp+tp))) + total_dice\n",
    "    tpr = (tp/(tp + fn)) * 100\n",
    "    fpr = (fp/(fp + tn)) * 100\n",
    "#     print('tpr: ',tpr,'\\n')\n",
    "#     print('fpr: ',fpr,'\\n')\n",
    "#     total_fpr = ((fp/(fp + tn)) * 100) + total_fpr\n",
    "#     total_tpr = ((tp/(tp + fn)) * 100) + total_tpr\n",
    "    total_fpr = fpr + total_fpr\n",
    "    total_tpr = tpr + total_tpr\n",
    "print('total_miou:',(total_miou/len(img_out)),'\\n')\n",
    "print('total_dice*',(total_dice/len(img_out)),'\\n')\n",
    "print('total_fpr:',(total_fpr/len(img_out)),'\\n')\n",
    "print('total_tpr:',(total_tpr/len(img_out)),'\\n')"
   ]
  },
  {
   "cell_type": "markdown",
   "metadata": {},
   "source": [
    "# Calculate the mean percent of missed pixel and extras pixles"
   ]
  },
  {
   "cell_type": "code",
   "execution_count": 3,
   "metadata": {},
   "outputs": [
    {
     "name": "stdout",
     "output_type": "stream",
     "text": [
      "279\n",
      "total miss:  [67.06315236]\n",
      "total extra:  75\n"
     ]
    }
   ],
   "source": [
    "total_miss = 0\n",
    "total_extra = 0\n",
    "l=0\n",
    "img_out = glob.glob('./out_ror_250st_342epo_postpro/*.png')\n",
    "img_label = glob.glob('./data1/test_label1/*.png')\n",
    "print(len(img_out))\n",
    "for pic in range(0,len(img_out)):\n",
    "    l=l+1\n",
    "    miss_percent=0\n",
    "    extra_pixels=0\n",
    "    extra=0\n",
    "    mean_erro=0\n",
    "    equal=0\n",
    "    #read images gt and output\n",
    "    m_out=cv2.imread(img_out[pic])\n",
    "    m_out=np.where(m_out>0,1,0)\n",
    "    m_label=cv2.imread(img_label[pic])\n",
    "    #check the result for missed and extras\n",
    "    obj=np.unique(m_label, return_counts=True)[1][1] #target pixels of each image \n",
    "    background=np.unique(m_label, return_counts=True)[1][0] #background pixels of each image \n",
    "    result=np.unique(m_label-m_out,return_counts=True)\n",
    "    if -1 in result[0]:\n",
    "        index=np.where(result[0]==-1)\n",
    "        extra_pixels=result[1][index]\n",
    "        total_extra = extra_pixels + total_extra\n",
    "        \n",
    "    if 0 in result[0]:\n",
    "        index=np.where(result[0]==0)\n",
    "        equal=equal+1\n",
    "        \n",
    "    if 1 in result[0]:\n",
    "        index=np.where(result[0]==1)\n",
    "        miss_percent=result[1][index]/obj * 100\n",
    "        total_miss = miss_percent + total_miss\n",
    "        \n",
    "print('total miss: ',total_miss/len(img_out))\n",
    "print('total extra: ',np.int(total_extra/len(img_out)))"
   ]
  },
  {
   "cell_type": "code",
   "execution_count": null,
   "metadata": {},
   "outputs": [],
   "source": []
  }
 ],
 "metadata": {
  "kernelspec": {
   "display_name": "Python 3 (ipykernel)",
   "language": "python",
   "name": "python3"
  },
  "language_info": {
   "codemirror_mode": {
    "name": "ipython",
    "version": 3
   },
   "file_extension": ".py",
   "mimetype": "text/x-python",
   "name": "python",
   "nbconvert_exporter": "python",
   "pygments_lexer": "ipython3",
   "version": "3.8.10"
  }
 },
 "nbformat": 4,
 "nbformat_minor": 2
}
